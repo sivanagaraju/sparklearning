{
 "cells": [
  {
   "cell_type": "markdown",
   "metadata": {},
   "source": [
    "### Library Imports"
   ]
  },
  {
   "cell_type": "code",
   "execution_count": 1,
   "metadata": {},
   "outputs": [],
   "source": [
    "from pyspark.sql import SparkSession\n",
    "from pyspark.sql import types as T\n",
    "\n",
    "from pyspark.sql import functions as F\n",
    "\n",
    "from datetime import datetime\n",
    "from decimal import Decimal"
   ]
  },
  {
   "cell_type": "markdown",
   "metadata": {},
   "source": [
    "### Template"
   ]
  },
  {
   "cell_type": "code",
   "execution_count": 2,
   "metadata": {},
   "outputs": [],
   "source": [
    "spark = (\n",
    "    SparkSession.builder\n",
    "    .master(\"local\")\n",
    "    .appName(\"Section 1.3 - Maps and Dictionaries\")\n",
    "    .config(\"spark.some.config.option\", \"some-value\")\n",
    "    .getOrCreate()\n",
    ")\n",
    "\n",
    "sc = spark.sparkContext\n",
    "\n",
    "def get_csv_schema(*args):\n",
    "    return T.StructType([\n",
    "        T.StructField(*arg)\n",
    "        for arg in args\n",
    "    ])\n",
    "\n",
    "def read_csv(fname, schema):\n",
    "    return spark.read.csv(\n",
    "        path=fname,\n",
    "        header=True,\n",
    "        schema=get_csv_schema(*schema)\n",
    "    )\n",
    "\n",
    "import os\n",
    "\n",
    "data_path = \"/data/pets.csv\"\n",
    "base_path = os.path.dirname(os.getcwd())\n",
    "path = base_path + data_path"
   ]
  },
  {
   "cell_type": "code",
   "execution_count": 3,
   "metadata": {},
   "outputs": [
    {
     "name": "stdout",
     "output_type": "stream",
     "text": [
      "+---+--------+--------+-------------------+---+-----+------+\n",
      "| id|breed_id|nickname|           birthday|age|color|weight|\n",
      "+---+--------+--------+-------------------+---+-----+------+\n",
      "|  1|       1|    King|2014-11-22 12:30:31|  5|brown|  10.0|\n",
      "|  2|       3|   Argus|2016-11-22 10:05:10| 10| null|   5.5|\n",
      "|  3|       1|  Chewie|2016-11-22 10:05:10| 15| null|    12|\n",
      "|  3|       2|   Maple|2018-11-22 10:05:10| 17|white|   3.4|\n",
      "|  4|       2|    null|2019-01-01 10:05:10| 13| null|    10|\n",
      "+---+--------+--------+-------------------+---+-----+------+\n",
      "\n"
     ]
    }
   ],
   "source": [
    "pets = spark.read.csv(path, header=True)\n",
    "pets.show()"
   ]
  },
  {
   "cell_type": "markdown",
   "metadata": {},
   "source": [
    "### Maps and Dictionaries\n"
   ]
  },
  {
   "cell_type": "markdown",
   "metadata": {},
   "source": [
    "### Case 1: Creating a Mapping from Existing Columns"
   ]
  },
  {
   "cell_type": "code",
   "execution_count": 4,
   "metadata": {},
   "outputs": [
    {
     "name": "stdout",
     "output_type": "stream",
     "text": [
      "+---+--------+------------+-------------------+---+-----+------+--------------------+--------------------+\n",
      "| id|breed_id|    nickname|           birthday|age|color|weight|      {nickname:age}|    {nickname:age} 2|\n",
      "+---+--------+------------+-------------------+---+-----+------+--------------------+--------------------+\n",
      "|  1|       1|        King|2014-11-22 12:30:31|  5|brown|  10.0|         [King -> 5]|         [King -> 5]|\n",
      "|  2|       3|       Argus|2016-11-22 10:05:10| 10| null|   5.5|       [Argus -> 10]|       [Argus -> 10]|\n",
      "|  3|       1|      Chewie|2016-11-22 10:05:10| 15| null|    12|      [Chewie -> 15]|      [Chewie -> 15]|\n",
      "|  3|       2|       Maple|2018-11-22 10:05:10| 17|white|   3.4|       [Maple -> 17]|       [Maple -> 17]|\n",
      "|  4|       2|Unknown Name|2019-01-01 10:05:10| 13| null|    10|[Unknown Name -> 13]|[Unknown Name -> 13]|\n",
      "+---+--------+------------+-------------------+---+-----+------+--------------------+--------------------+\n",
      "\n"
     ]
    }
   ],
   "source": [
    "(\n",
    "    pets\n",
    "    .fillna({\n",
    "        'nickname': 'Unknown Name',\n",
    "        'age':      'Unknown Age',\n",
    "    })\n",
    "    .withColumn('{nickname:age}', F.create_map(F.col('nickname'), F.col('age')))\n",
    "    .withColumn('{nickname:age} 2', F.create_map('nickname', 'age'))\n",
    "    .show()\n",
    ")"
   ]
  },
  {
   "cell_type": "markdown",
   "metadata": {},
   "source": [
    "**What Happened?**\n",
    "\n",
    "You can create a column of map types using either `columnary expressions` (we'll learn what column expressions are later) or column names."
   ]
  },
  {
   "cell_type": "markdown",
   "metadata": {},
   "source": [
    "### Case 2: Creating a Mapping from Constant Values"
   ]
  },
  {
   "cell_type": "code",
   "execution_count": 5,
   "metadata": {},
   "outputs": [
    {
     "name": "stdout",
     "output_type": "stream",
     "text": [
      "+---+--------+------------+-------------------+---+-----+------+--------------+\n",
      "| id|breed_id|    nickname|           birthday|age|color|weight|{nickname:age}|\n",
      "+---+--------+------------+-------------------+---+-----+------+--------------+\n",
      "|  1|       1|        King|2014-11-22 12:30:31|  5|brown|  10.0|[key -> value]|\n",
      "|  2|       3|       Argus|2016-11-22 10:05:10| 10| null|   5.5|[key -> value]|\n",
      "|  3|       1|      Chewie|2016-11-22 10:05:10| 15| null|    12|[key -> value]|\n",
      "|  3|       2|       Maple|2018-11-22 10:05:10| 17|white|   3.4|[key -> value]|\n",
      "|  4|       2|Unknown Name|2019-01-01 10:05:10| 13| null|    10|[key -> value]|\n",
      "+---+--------+------------+-------------------+---+-----+------+--------------+\n",
      "\n"
     ]
    }
   ],
   "source": [
    "(\n",
    "    pets\n",
    "    .fillna({\n",
    "        'nickname': 'Unknown Name',\n",
    "        'age':      'Unknown Age',\n",
    "    })\n",
    "    .withColumn('{nickname:age}', F.create_map(F.lit('key'), F.lit('value')))\n",
    "    .show()\n",
    ")"
   ]
  },
  {
   "cell_type": "markdown",
   "metadata": {},
   "source": [
    "**What Happened?**\n",
    "\n",
    "You can create a column of map types of literals using the `columnary expression` `F.lit()`, we will learn this later on. Notice that each key/value needs to be a `columnal expression`? This will be a common theme throughout Spark."
   ]
  },
  {
   "cell_type": "markdown",
   "metadata": {},
   "source": [
    "### Summary\n",
    "\n",
    "* It is very simple to create map data in Spark.\n",
    "* You can do so with both existing columns or constant values.\n",
    "* If constant values are used, then each value must be a `columnary expression`."
   ]
  }
 ],
 "metadata": {
  "kernelspec": {
   "display_name": "Python 2",
   "language": "python",
   "name": "python2"
  },
  "language_info": {
   "codemirror_mode": {
    "name": "ipython",
    "version": 2
   },
   "file_extension": ".py",
   "mimetype": "text/x-python",
   "name": "python",
   "nbconvert_exporter": "python",
   "pygments_lexer": "ipython2",
   "version": "2.7.15"
  }
 },
 "nbformat": 4,
 "nbformat_minor": 2
}
