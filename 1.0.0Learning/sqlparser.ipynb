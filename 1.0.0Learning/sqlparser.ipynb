{
 "cells": [
  {
   "cell_type": "code",
   "execution_count": null,
   "metadata": {},
   "outputs": [],
   "source": [
    "import sqlglot\n",
    "from sqlglot import parse_one, exp"
   ]
  },
  {
   "cell_type": "code",
   "execution_count": null,
   "metadata": {},
   "outputs": [],
   "source": [
    "cte_sql = \"\"\"\n",
    "WITH monthly_sales AS (\n",
    "  SELECT \n",
    "    DATE_TRUNC('month', o.order_date) AS month,\n",
    "    c.customer_id,\n",
    "    c.customer_name,\n",
    "    p.product_name,\n",
    "    SUM(oi.quantity * oi.unit_price) AS revenue,\n",
    "    ROW_NUMBER() OVER (PARTITION BY DATE_TRUNC('month', o.order_date), c.customer_id ORDER BY SUM(oi.quantity * oi.unit_price) DESC) AS revenue_rank\n",
    "  FROM \n",
    "    orders o\n",
    "  JOIN \n",
    "    customers c ON o.customer_id = c.customer_id\n",
    "  JOIN \n",
    "    order_items oi ON o.order_id = oi.order_id\n",
    "  JOIN \n",
    "    products p ON oi.product_id = p.product_id\n",
    "  WHERE \n",
    "    o.order_date >= '2024-03-01'\n",
    "    AND o.order_date <= '2024-12-31'\n",
    "  GROUP BY \n",
    "    DATE_TRUNC('month', o.order_date),\n",
    "    c.customer_id,\n",
    "    c.customer_name,\n",
    "    p.product_name\n",
    "),\n",
    "top_sales AS (\n",
    "  SELECT \n",
    "    month,\n",
    "    customer_id,\n",
    "    customer_name,\n",
    "    product_name,\n",
    "    revenue,\n",
    "    revenue_rank\n",
    "  FROM \n",
    "    monthly_sales\n",
    "  WHERE \n",
    "    revenue_rank <= 3\n",
    "),\n",
    "customer_total_revenue AS (\n",
    "  SELECT \n",
    "    c.customer_id,\n",
    "    SUM(oi.quantity * oi.unit_price) AS total_revenue\n",
    "  FROM \n",
    "    orders o\n",
    "  JOIN \n",
    "    customers c ON o.customer_id = c.customer_id\n",
    "  JOIN \n",
    "    order_items oi ON o.order_id = oi.order_id\n",
    "  WHERE \n",
    "    o.order_date >= '2024-03-01'\n",
    "    AND o.order_date <= '2024-12-31'\n",
    "  GROUP BY \n",
    "    c.customer_id\n",
    "),\n",
    "final as (\n",
    "SELECT \n",
    "  month,\n",
    "  customer_id,\n",
    "  customer_name,\n",
    "  product_name,\n",
    "  revenue\n",
    "FROM \n",
    "  top_sales\n",
    "JOIN \n",
    "  customer_total_revenue\n",
    "ON \n",
    "  top_sales.customer_id = customer_total_revenue.customer_id\n",
    "WHERE \n",
    "  customer_total_revenue.total_revenue >= 10000\n",
    "ORDER BY \n",
    "  month ASC,\n",
    "  revenue_rank ASC\n",
    ")\n",
    "select \n",
    "  *\n",
    "from final;\n",
    "\"\"\""
   ]
  },
  {
   "cell_type": "code",
   "execution_count": null,
   "metadata": {},
   "outputs": [],
   "source": [
    "sqls = [\"\"\"SELECT\n",
    "EOMONTH (\n",
    "     CAST(\n",
    "        FORMAT(DATEADD(month, - 14, GETDATE()), \n",
    "     'yyyy-MM-01 00:00:00.000') AS datetime)) AS eom_col, \n",
    "CAST(\n",
    "     FORMAT(\n",
    "        DATEADD(month, - 14, GETDATE()), \n",
    "     'yyyy-MM-01 00:00:00.000') AS datetime) AS start_tm2, col3\"\"\",   \n",
    "     \"\"\"SELECT EOMONTH(GETDATE()) AS EndOfMonth;\"\"\"]\n",
    "sql = \"\"\"SELECT\n",
    "    c.CustomerID,\n",
    "    c.FirstName + ' ' + c.LastName AS FullName,\n",
    "    c.DateOfBirth,\n",
    "    FORMAT(c.AccountBalance, 'C', 'en-US') AS FormattedBalance,\n",
    "    CASE\n",
    "        WHEN c.Gender = 'M' THEN 'Male'\n",
    "        WHEN c.Gender = 'F' THEN 'Female'\n",
    "        ELSE 'Unknown'\n",
    "    END AS Gender,\n",
    "    o.OrderID,\n",
    "    o.OrderDate,\n",
    "    p.ProductName,\n",
    "    p.Price,\n",
    "    IIF(p.Price > 100, 'Expensive', 'Affordable') AS PriceCategory\n",
    "FROM\n",
    "    Customers c\n",
    "    INNER JOIN Orders o ON c.CustomerID = o.CustomerID\n",
    "    INNER JOIN OrderDetails od ON o.OrderID = od.OrderID\n",
    "    INNER JOIN Products p ON od.ProductID = p.ProductID\n",
    "WHERE\n",
    "    c.DateOfBirth >= '1980-01-01'\n",
    "    AND c.DateOfBirth <= '1990-12-31'\n",
    "    AND o.OrderDate >= '2022-01-01'\n",
    "    AND o.OrderDate <= '2022-12-31'\n",
    "    AND p.CategoryID IN (1, 2, 3)\n",
    "\"\"\""
   ]
  },
  {
   "cell_type": "code",
   "execution_count": 21,
   "metadata": {},
   "outputs": [
    {
     "name": "stdout",
     "output_type": "stream",
     "text": [
      "SELECT c.CustomerID, c.FirstName + ' ' + c.LastName AS FullName, c.DateOfBirth, NUMBER_TO_STR(c.AccountBalance, 'C', 'en-US') AS FormattedBalance, CASE WHEN c.Gender = 'M' THEN 'Male' WHEN c.Gender = 'F' THEN 'Female' ELSE 'Unknown' END AS Gender, o.OrderID, o.OrderDate, p.ProductName, p.Price, CASE WHEN p.Price > 100 THEN 'Expensive' ELSE 'Affordable' END AS PriceCategory FROM Customers AS c INNER JOIN Orders AS o ON c.CustomerID = o.CustomerID INNER JOIN OrderDetails AS od ON o.OrderID = od.OrderID INNER JOIN Products AS p ON od.ProductID = p.ProductID WHERE c.DateOfBirth >= '1980-01-01' AND c.DateOfBirth <= '1990-12-31' AND o.OrderDate >= '2022-01-01' AND o.OrderDate <= '2022-12-31' AND p.CategoryID IN (1, 2, 3)\n",
      "Where Condition: WHERE c.DateOfBirth >= '1980-01-01' AND c.DateOfBirth <= '1990-12-31' AND o.OrderDate >= '2022-01-01' AND o.OrderDate <= '2022-12-31' AND p.CategoryID IN (1, 2, 3)\n",
      "['CustomerID', 'FullName', 'DateOfBirth', 'FormattedBalance', 'Gender', 'OrderID', 'OrderDate', 'ProductName', 'Price', 'PriceCategory']\n",
      "Target Columns: ['CustomerID', 'FullName', 'DateOfBirth', 'FormattedBalance', 'Gender', 'OrderID', 'OrderDate', 'ProductName', 'Price', 'PriceCategory']\n",
      "Source Columns: ['Column(\\n  this=Identifier(this=CustomerID, quoted=False),\\n  table=Identifier(this=c, quoted=False))', 'Add(\\n  this=Add(\\n    this=Column(\\n      this=Identifier(this=FirstName, quoted=False),\\n      table=Identifier(this=c, quoted=False)),\\n    expression=Literal(this=, is_string=True)),\\n  expression=Column(\\n    this=Identifier(this=LastName, quoted=False),\\n    table=Identifier(this=c, quoted=False)))', 'Column(\\n  this=Identifier(this=DateOfBirth, quoted=False),\\n  table=Identifier(this=c, quoted=False))', 'Anonymous(\\n  this=FORMAT,\\n  expressions=[\\n    Column(\\n      this=Identifier(this=AccountBalance, quoted=False),\\n      table=Identifier(this=c, quoted=False)),\\n    Literal(this=C, is_string=True),\\n    Literal(this=en-US, is_string=True)])', 'Case(\\n  ifs=[\\n    If(\\n      this=EQ(\\n        this=Column(\\n          this=Identifier(this=Gender, quoted=False),\\n          table=Identifier(this=c, quoted=False)),\\n        expression=Literal(this=M, is_string=True)),\\n      true=Literal(this=Male, is_string=True)),\\n    If(\\n      this=EQ(\\n        this=Column(\\n          this=Identifier(this=Gender, quoted=False),\\n          table=Identifier(this=c, quoted=False)),\\n        expression=Literal(this=F, is_string=True)),\\n      true=Literal(this=Female, is_string=True))],\\n  default=Literal(this=Unknown, is_string=True))', 'Column(\\n  this=Identifier(this=OrderID, quoted=False),\\n  table=Identifier(this=o, quoted=False))', 'Column(\\n  this=Identifier(this=OrderDate, quoted=False),\\n  table=Identifier(this=o, quoted=False))', 'Column(\\n  this=Identifier(this=ProductName, quoted=False),\\n  table=Identifier(this=p, quoted=False))', 'Column(\\n  this=Identifier(this=Price, quoted=False),\\n  table=Identifier(this=p, quoted=False))', 'If(\\n  this=GT(\\n    this=Column(\\n      this=Identifier(this=Price, quoted=False),\\n      table=Identifier(this=p, quoted=False)),\\n    expression=Literal(this=100, is_string=False)),\\n  true=Literal(this=Expensive, is_string=True),\\n  false=Literal(this=Affordable, is_string=True))']\n"
     ]
    }
   ],
   "source": [
    "ast = sqlglot.parse_one(sql, read='tsql')\n",
    "print(ast)\n",
    "# where condition\n",
    "for filter in ast.find_all(exp.Where):\n",
    "     print(\"Where Condition:\", filter)\n",
    "\n",
    "\"\"\"\n",
    "for col in ast.find_all(exp.Column):\n",
    "    print(col.sql())\n",
    "\"\"\"\n",
    "print(ast.named_selects)\n",
    "Target_Column_Names = []\n",
    "Source_Column_Names = []\n",
    "for expression in sqlglot.parse_one(sql).find(exp.Select).args[\"expressions\"]:\n",
    "    if isinstance(expression, exp.Alias):\n",
    "        # print(\"Alias\")\n",
    "        # print('Alias expreesion using txt:', expression.text(\"alias\"))\n",
    "        Target_Column_Names.append(expression.text(\"alias\"))\n",
    "        Source_Column_Names.append(repr(expression.args['this']))\n",
    "        # print('alias exression:', expression.args['this'])\n",
    "        # print('alias expression:', expression)\n",
    "    elif isinstance(expression, exp.Column):\n",
    "        # print(\"Column\")\n",
    "        #print(\"Only Column Name:\", expression.text(\"this\"))\n",
    "        Target_Column_Names.append(expression.text(\"this\"))\n",
    "        Source_Column_Names.append(repr(expression))\n",
    "        # print(\"Column and table name:\", expression)\n",
    "\n",
    "print(\"Target Columns:\", Target_Column_Names)\n",
    "print(\"Source Columns:\", Source_Column_Names)"
   ]
  },
  {
   "cell_type": "code",
   "execution_count": 62,
   "metadata": {},
   "outputs": [
    {
     "name": "stdout",
     "output_type": "stream",
     "text": [
      "Columnm:  c.CustomerID\n",
      "Column Alias: \n",
      "\n",
      "Columnm:  c.FirstName + ' ' + c.LastName AS FullName\n",
      "Column Alias: FullName\n",
      "\n",
      "Columnm:  c.DateOfBirth\n",
      "Column Alias: \n",
      "\n",
      "Columnm:  NUMBER_TO_STR(c.AccountBalance, 'C', 'en-US') AS FormattedBalance\n",
      "Column Alias: FormattedBalance\n",
      "\n",
      "Columnm:  CASE WHEN c.Gender = 'M' THEN 'Male' WHEN c.Gender = 'F' THEN 'Female' ELSE 'Unknown' END AS Gender\n",
      "Column Alias: Gender\n",
      "\n",
      "Columnm:  o.OrderID\n",
      "Column Alias: \n",
      "\n",
      "Columnm:  o.OrderDate\n",
      "Column Alias: \n",
      "\n",
      "Columnm:  p.ProductName\n",
      "Column Alias: \n",
      "\n",
      "Columnm:  p.Price\n",
      "Column Alias: \n",
      "\n",
      "Columnm:  CASE WHEN p.Price > 100 THEN 'Expensive' ELSE 'Affordable' END AS PriceCategory\n",
      "Column Alias: PriceCategory\n",
      "\n"
     ]
    }
   ],
   "source": [
    "for ast_id in ast.args[\"expressions\"]:\n",
    "    print('Columnm: ', ast_id)\n",
    "    print('Column Alias:', ast_id.alias)\n",
    "    print(ast.alias_or_name)"
   ]
  },
  {
   "cell_type": "code",
   "execution_count": 63,
   "metadata": {},
   "outputs": [
    {
     "ename": "AttributeError",
     "evalue": "'Column' object has no attribute 'Join'",
     "output_type": "error",
     "traceback": [
      "\u001b[1;31m---------------------------------------------------------------------------\u001b[0m",
      "\u001b[1;31mAttributeError\u001b[0m                            Traceback (most recent call last)",
      "Cell \u001b[1;32mIn[63], line 1\u001b[0m\n\u001b[1;32m----> 1\u001b[0m \u001b[38;5;28;01mfor\u001b[39;00m join_stmt \u001b[38;5;129;01min\u001b[39;00m ast\u001b[38;5;241m.\u001b[39mfind_all(\u001b[43mexp\u001b[49m\u001b[38;5;241;43m.\u001b[39;49m\u001b[43mJoin\u001b[49m):\n\u001b[0;32m      2\u001b[0m     \u001b[38;5;28mprint\u001b[39m(join_stmt)\n\u001b[0;32m      3\u001b[0m     \u001b[38;5;66;03m# for from_stmt in join_stmt.parent_select.find_all(exp.From):\u001b[39;00m\n\u001b[0;32m      4\u001b[0m     \u001b[38;5;66;03m#    print(from_stmt)\u001b[39;00m\n",
      "\u001b[1;31mAttributeError\u001b[0m: 'Column' object has no attribute 'Join'"
     ]
    }
   ],
   "source": [
    "for join_stmt in ast.find_all(exp.Join):\n",
    "    print(join_stmt)\n",
    "    # for from_stmt in join_stmt.parent_select.find_all(exp.From):\n",
    "    #    print(from_stmt)\n",
    "\n",
    "for from_stmt in ast.find_all(exp.From):\n",
    "    print(from_stmt)\n",
    "    \n",
    "# Extract the columns used in the extract\n",
    "for col in sqlglot.parse_one(sql).find(exp.Where).find_all(exp.Column):\n",
    "    print(col)"
   ]
  },
  {
   "cell_type": "code",
   "execution_count": 9,
   "metadata": {},
   "outputs": [
    {
     "name": "stdout",
     "output_type": "stream",
     "text": [
      "Column => col3\n",
      "Column => month\n",
      "Column => month\n"
     ]
    }
   ],
   "source": [
    "# not extracting the correct columns\n",
    "for column in parse_one(sqls[0]).find_all(exp.Column):\n",
    "    print(f\"Column => {column.name}\")"
   ]
  },
  {
   "cell_type": "code",
   "execution_count": null,
   "metadata": {},
   "outputs": [],
   "source": [
    "parsed_query = parse_one(sql, dialect=\"tsql\")\n",
    "# Identify CTEs\n",
    "cte_names = {cte.alias for cte in parsed_query.find_all(exp.CTE)}\n",
    "# Function to check if the selection is from a CTE or an external table\n",
    "def is_from_cte_or_subquery(select_expression):\n",
    "    froms = select_expression.find_all(exp.Table)\n",
    "    tables = [x.args.get(\"this\").args.get(\"this\") for x in froms]\n",
    "    subqueries = select_expression.find_all(exp.Subquery)\n",
    "    num_subqueries = len([_ for _ in subqueries])\n",
    "    if len(tables) > 1 or num_subqueries > 0:\n",
    "        return True\n",
    "    # If any of the tables are in the CTE names, then it's a CTE\n",
    "    if len(set(tables) & set(cte_names)) > 0:\n",
    "        return True\n",
    "    return False\n",
    "for select in parsed_query.find_all(exp.Select):\n",
    "    for selection in select.args.get(\"expressions\", []):\n",
    "        if isinstance(selection, exp.Star) and not is_from_cte_or_subquery(select):\n",
    "            raise Exception(\n",
    "                \"select * is only allowed when selecting from a CTE.\",\n",
    "                select,\n",
    "            )"
   ]
  },
  {
   "cell_type": "code",
   "execution_count": 10,
   "metadata": {},
   "outputs": [
    {
     "name": "stdout",
     "output_type": "stream",
     "text": [
      "['MONTH(start_date)']\n"
     ]
    }
   ],
   "source": [
    "from sqlglot import parse_one, exp\n",
    "\n",
    "def filter_has_function(sql: str, dialect: str) -> list[str]:\n",
    "    ast = parse_one(sql, read=dialect)\n",
    "    column_function_expressions = []\n",
    "    # Finds all the filters in the query\n",
    "    filters = ast.find_all(exp.Where)\n",
    "    for filter in filters:\n",
    "        # Find all functions in the filter\n",
    "        functions = filter.find_all(exp.Func)\n",
    "        # Checks if the functions operates on a column\n",
    "        column_function_expressions = [\n",
    "            func for func in functions if list(func.find_all(exp.Column))\n",
    "        ]\n",
    "    return [str(func) for func in column_function_expressions]\n",
    "\n",
    "print(filter_has_function(\"select * from table where month(start_date) = 5\", \"snowflake\"))\n",
    "# ['month(start_date)']"
   ]
  },
  {
   "cell_type": "code",
   "execution_count": 57,
   "metadata": {},
   "outputs": [
    {
     "name": "stdout",
     "output_type": "stream",
     "text": [
      "['id', 'product_name', 'sales_volume']\n"
     ]
    }
   ],
   "source": [
    "import sqlglot\n",
    "import sqlglot.expressions as exp\n",
    "\n",
    "query = \"\"\"\n",
    "select\n",
    "    sales.order_id as id,\n",
    "    p.product_name,\n",
    "    sum(p.price) as sales_volume\n",
    "from sales\n",
    "right join products as p\n",
    "    on sales.product_id=p.product_id\n",
    "group by id, p.product_name;\n",
    "\n",
    "\"\"\"\n",
    "\n",
    "column_names = []\n",
    "\n",
    "for expression in sqlglot.parse_one(query).find(exp.Select).args[\"expressions\"]:\n",
    "    if isinstance(expression, exp.Alias):\n",
    "        column_names.append(expression.text(\"alias\"))\n",
    "    elif isinstance(expression, exp.Column):\n",
    "        column_names.append(expression.text(\"this\"))\n",
    "\n",
    "print(column_names)"
   ]
  },
  {
   "cell_type": "code",
   "execution_count": 58,
   "metadata": {},
   "outputs": [
    {
     "name": "stdout",
     "output_type": "stream",
     "text": [
      "id\n",
      "p.product_name\n"
     ]
    }
   ],
   "source": [
    "query_ast = parse_one(query)  \n",
    "for exp in query_ast.find(exp.Group):\n",
    "    print(exp)\n",
    "#parse_one(query).find(exp.Order)"
   ]
  },
  {
   "cell_type": "code",
   "execution_count": 3,
   "metadata": {},
   "outputs": [
    {
     "name": "stdout",
     "output_type": "stream",
     "text": [
      "SELECT LAST_DAY(TO_DATE(CAST(DATE_FORMAT(ADD_MONTHS(CURRENT_TIMESTAMP(), -14), 'yyyy-MM-01 00:00:00.000') AS TIMESTAMP))) AS eom_col, CAST(DATE_FORMAT(ADD_MONTHS(CURRENT_TIMESTAMP(), -14), 'yyyy-MM-01 00:00:00.000') AS TIMESTAMP) AS start_tm2, col3\n",
      "SELECT LAST_DAY(TO_DATE(CURRENT_TIMESTAMP())) AS EndOfMonth\n"
     ]
    }
   ],
   "source": [
    "for sql in sqls:\n",
    "   f_sql = sqlglot.parse_one(sql, dialect='tsql').sql(dialect='spark')\n",
    "   print(f_sql)"
   ]
  },
  {
   "cell_type": "code",
   "execution_count": 4,
   "metadata": {},
   "outputs": [
    {
     "data": {
      "text/plain": [
       "{'kind': None,\n",
       " 'hint': None,\n",
       " 'distinct': None,\n",
       " 'expressions': [Alias(\n",
       "    this=Anonymous(\n",
       "      this=EOMONTH,\n",
       "      expressions=[\n",
       "        Cast(\n",
       "          this=Anonymous(\n",
       "            this=FORMAT,\n",
       "            expressions=[\n",
       "              Anonymous(\n",
       "                this=DATEADD,\n",
       "                expressions=[\n",
       "                  Column(\n",
       "                    this=Identifier(this=month, quoted=False)),\n",
       "                  Neg(\n",
       "                    this=Literal(this=14, is_string=False)),\n",
       "                  Anonymous(\n",
       "                    this=GETDATE)]),\n",
       "              Literal(this=yyyy-MM-01 00:00:00.000, is_string=True)]),\n",
       "          to=DataType(this=Type.DATETIME, nested=False))]),\n",
       "    alias=Identifier(this=eom_col, quoted=False)),\n",
       "  Alias(\n",
       "    this=Cast(\n",
       "      this=Anonymous(\n",
       "        this=FORMAT,\n",
       "        expressions=[\n",
       "          Anonymous(\n",
       "            this=DATEADD,\n",
       "            expressions=[\n",
       "              Column(\n",
       "                this=Identifier(this=month, quoted=False)),\n",
       "              Neg(\n",
       "                this=Literal(this=14, is_string=False)),\n",
       "              Anonymous(\n",
       "                this=GETDATE)]),\n",
       "          Literal(this=yyyy-MM-01 00:00:00.000, is_string=True)]),\n",
       "      to=DataType(this=Type.DATETIME, nested=False)),\n",
       "    alias=Identifier(this=start_tm2, quoted=False)),\n",
       "  Column(\n",
       "    this=Identifier(this=col3, quoted=False))],\n",
       " 'limit': None}"
      ]
     },
     "execution_count": 4,
     "metadata": {},
     "output_type": "execute_result"
    }
   ],
   "source": [
    "ast = sqlglot.parse_one(sqls[0])\n",
    "ast.args"
   ]
  },
  {
   "cell_type": "code",
   "execution_count": 5,
   "metadata": {},
   "outputs": [
    {
     "data": {
      "text/plain": [
       "Alias(\n",
       "  this=Anonymous(\n",
       "    this=EOMONTH,\n",
       "    expressions=[\n",
       "      Cast(\n",
       "        this=Anonymous(\n",
       "          this=FORMAT,\n",
       "          expressions=[\n",
       "            Anonymous(\n",
       "              this=DATEADD,\n",
       "              expressions=[\n",
       "                Column(\n",
       "                  this=Identifier(this=month, quoted=False)),\n",
       "                Neg(\n",
       "                  this=Literal(this=14, is_string=False)),\n",
       "                Anonymous(\n",
       "                  this=GETDATE)]),\n",
       "            Literal(this=yyyy-MM-01 00:00:00.000, is_string=True)]),\n",
       "        to=DataType(this=Type.DATETIME, nested=False))]),\n",
       "  alias=Identifier(this=eom_col, quoted=False))"
      ]
     },
     "execution_count": 5,
     "metadata": {},
     "output_type": "execute_result"
    }
   ],
   "source": [
    "ast.args[\"expressions\"][0]"
   ]
  },
  {
   "cell_type": "code",
   "execution_count": 50,
   "metadata": {},
   "outputs": [
    {
     "name": "stdout",
     "output_type": "stream",
     "text": [
      "EOMONTH(CAST(FORMAT(DATEADD(month, -14, GETDATE()), 'yyyy-MM-01 00:00:00.000') AS DATETIME)) AS eom_col\n",
      "col3\n",
      "Alias Column Name:  eom_col\n",
      "Column:  EOMONTH(CAST(FORMAT(DATEADD(month, -14, GETDATE()), 'yyyy-MM-01 00:00:00.000') AS DATETIME))\n",
      "col3\n",
      "month\n",
      "month\n"
     ]
    }
   ],
   "source": [
    "print(ast.args[\"expressions\"][0])\n",
    "print(ast.args[\"expressions\"][2])\n",
    "print(\"Alias Column Name: \", ast.args[\"expressions\"][0].args[\"alias\"])\n",
    "print(\"Column: \", ast.args[\"expressions\"][0].args[\"this\"])\n",
    "for column in ast.find_all(exp.Column):\n",
    "    print(column)\n"
   ]
  },
  {
   "cell_type": "code",
   "execution_count": 6,
   "metadata": {},
   "outputs": [
    {
     "name": "stdout",
     "output_type": "stream",
     "text": [
      "SELECT\n",
      "  TRANSLATE(wsr.pobject_name, CHR(10) || CHR(13), '  ') AS ItemRevision_object_name\n",
      "FROM infodba.pworkspaceobject AS wsr\n"
     ]
    }
   ],
   "source": [
    "sql = \"\"\"SELECT TRANSLATE(wsr.pobject_name, CHR(10)|| CHR(13), '  ') ItemRevision_object_name FROM\n",
    "    infodba.pworkspaceobject wsr\"\"\"\n",
    "tsql = sqlglot.transpile(sql, read=\"oracle\", write=\"tsql\", pretty=True)[0]\n",
    "print(tsql)"
   ]
  }
 ],
 "metadata": {
  "kernelspec": {
   "display_name": "Python 3",
   "language": "python",
   "name": "python3"
  },
  "language_info": {
   "codemirror_mode": {
    "name": "ipython",
    "version": 3
   },
   "file_extension": ".py",
   "mimetype": "text/x-python",
   "name": "python",
   "nbconvert_exporter": "python",
   "pygments_lexer": "ipython3",
   "version": "3.10.10"
  }
 },
 "nbformat": 4,
 "nbformat_minor": 2
}
