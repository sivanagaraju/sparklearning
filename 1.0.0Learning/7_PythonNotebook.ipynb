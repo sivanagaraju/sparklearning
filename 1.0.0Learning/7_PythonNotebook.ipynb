{
 "cells": [
  {
   "cell_type": "code",
   "execution_count": 4,
   "metadata": {},
   "outputs": [],
   "source": [
    "from pyspark.sql import *\n",
    "from pyspark.sql.functions import *\n",
    "from pyspark.sql.types import *\n",
    "\n",
    "def to_date_df(df, fmt, fld):\n",
    "    return df.withColumn(fld, to_date(col(fld), fmt))"
   ]
  },
  {
   "cell_type": "code",
   "execution_count": 2,
   "metadata": {},
   "outputs": [],
   "source": [
    "my_schema = StructType([\n",
    "    StructField(\"ID\", StringType()),\n",
    "    StructField(\"EventDate\", StringType())\n",
    "    ])\n",
    "\n",
    "spark = SparkSession.builder.master(\"local[3]\")\\\n",
    "                            .appName(\"SparkSQLTableDemo\")\\\n",
    "                            .getOrCreate()\n",
    "    \n",
    "\n",
    "my_rows = [Row(\"123\", \"04/05/2020\"), Row(\"124\", \"4/5/2020\"), Row(\"125\", \"04/5/2020\"), Row(\"126\", \"4/05/2020\")]\n",
    "my_rdd = spark.sparkContext.parallelize(my_rows, 2)\n",
    "my_df = spark.createDataFrame(my_rdd, my_schema)"
   ]
  },
  {
   "cell_type": "code",
   "execution_count": 5,
   "metadata": {},
   "outputs": [
    {
     "name": "stdout",
     "output_type": "stream",
     "text": [
      "root\n",
      " |-- ID: string (nullable = true)\n",
      " |-- EventDate: string (nullable = true)\n",
      "\n",
      "+---+----------+\n",
      "| ID| EventDate|\n",
      "+---+----------+\n",
      "|123|04/05/2020|\n",
      "|124|  4/5/2020|\n",
      "|125| 04/5/2020|\n",
      "|126| 4/05/2020|\n",
      "+---+----------+\n",
      "\n",
      "root\n",
      " |-- ID: string (nullable = true)\n",
      " |-- EventDate: date (nullable = true)\n",
      "\n",
      "+---+----------+\n",
      "| ID| EventDate|\n",
      "+---+----------+\n",
      "|123|2020-04-05|\n",
      "|124|2020-04-05|\n",
      "|125|2020-04-05|\n",
      "|126|2020-04-05|\n",
      "+---+----------+\n",
      "\n"
     ]
    }
   ],
   "source": [
    "my_df.printSchema()\n",
    "my_df.show()\n",
    "new_df = to_date_df(my_df, \"M/d/y\", \"EventDate\")\n",
    "new_df.printSchema()\n",
    "new_df.show()"
   ]
  }
 ],
 "metadata": {
  "kernelspec": {
   "display_name": "venv",
   "language": "python",
   "name": "python3"
  },
  "language_info": {
   "codemirror_mode": {
    "name": "ipython",
    "version": 3
   },
   "file_extension": ".py",
   "mimetype": "text/x-python",
   "name": "python",
   "nbconvert_exporter": "python",
   "pygments_lexer": "ipython3",
   "version": "3.10.10"
  },
  "orig_nbformat": 4
 },
 "nbformat": 4,
 "nbformat_minor": 2
}
